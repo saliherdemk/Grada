{
 "cells": [
  {
   "cell_type": "code",
   "execution_count": 1,
   "id": "ec1a8c85-f445-43e4-9891-784b401abaaa",
   "metadata": {},
   "outputs": [
    {
     "name": "stdout",
     "output_type": "stream",
     "text": [
      "Data has been converted to output.json\n"
     ]
    }
   ],
   "source": [
    "import struct\n",
    "import json\n",
    "\n",
    "def read_ubyte_file(filename):\n",
    "    with open(filename, 'rb') as f:\n",
    "        magic_number = struct.unpack(\">I\", f.read(4))[0]\n",
    "        num_items = struct.unpack(\">I\", f.read(4))[0]\n",
    "\n",
    "        if magic_number == 2051:\n",
    "            rows = struct.unpack(\">I\", f.read(4))[0]\n",
    "            cols = struct.unpack(\">I\", f.read(4))[0]\n",
    "            images = []\n",
    "            for _ in range(num_items):\n",
    "                image = []\n",
    "                for _ in range(rows):\n",
    "                    row = list(f.read(cols))\n",
    "                    image.append(row)\n",
    "                images.append(image)\n",
    "            return images\n",
    "\n",
    "        elif magic_number == 2049:\n",
    "            labels = list(f.read(num_items))\n",
    "            return labels\n",
    "\n",
    "        else:\n",
    "            raise ValueError(f\"Unknown magic number {magic_number}.\")\n",
    "\n",
    "def convert_to_json(x_data, y_data, output_filename):\n",
    "    data = {\n",
    "        'x': x_data,\n",
    "        'y': y_data\n",
    "    }\n",
    "    \n",
    "    with open(output_filename, 'w') as json_file:\n",
    "        json.dump(data, json_file)\n",
    "\n",
    "x_ubyte_filename = '/home/saliherdemk/Downloads/t10k-images.idx3-ubyte'  \n",
    "y_ubyte_filename = '/home/saliherdemk/Downloads/t10k-labels.idx1-ubyte'  \n",
    "output_json = 'output.json'  \n",
    "\n",
    "x_data = read_ubyte_file(x_ubyte_filename)\n",
    "y_data = read_ubyte_file(y_ubyte_filename)\n",
    "\n",
    "convert_to_json(x_data, y_data, output_json)\n",
    "\n",
    "print(f\"Data has been converted to {output_json}\")\n"
   ]
  },
  {
   "cell_type": "code",
   "execution_count": null,
   "id": "dd7616d5-180e-413f-b703-8dbf8a0953dd",
   "metadata": {},
   "outputs": [],
   "source": []
  }
 ],
 "metadata": {
  "kernelspec": {
   "display_name": "Python 3 (ipykernel)",
   "language": "python",
   "name": "python3"
  },
  "language_info": {
   "codemirror_mode": {
    "name": "ipython",
    "version": 3
   },
   "file_extension": ".py",
   "mimetype": "text/x-python",
   "name": "python",
   "nbconvert_exporter": "python",
   "pygments_lexer": "ipython3",
   "version": "3.12.7"
  }
 },
 "nbformat": 4,
 "nbformat_minor": 5
}
